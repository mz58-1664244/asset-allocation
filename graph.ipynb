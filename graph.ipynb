{
 "cells": [
  {
   "cell_type": "code",
   "execution_count": 37,
   "metadata": {},
   "outputs": [],
   "source": [
    "import RiskParity as rp\n",
    "import numpy as np\n",
    "import matplotlib.pyplot as plt\n",
    "from WindPy import *\n",
    "from datetime import datetime\n",
    "from IPython.core.interactiveshell import InteractiveShell\n",
    "\n",
    "InteractiveShell.ast_node_interactivity = \"all\"\n",
    "\n"
   ]
  },
  {
   "cell_type": "code",
   "execution_count": 87,
   "metadata": {},
   "outputs": [
    {
     "data": {
      "text/plain": [
       "array([1.        , 1.00239244, 1.00469479, 1.00752234, 1.00972927,\n",
       "       1.01193733, 1.01425711, 1.01644581, 1.01845272, 1.0207383 ,\n",
       "       1.02279312, 1.02493876, 1.02706438, 1.029083  , 1.03143898,\n",
       "       1.03316922, 1.03575017, 1.03785536, 1.03953955, 1.04098327,\n",
       "       1.04251103, 1.04402062, 1.04559702, 1.0471806 ])"
      ]
     },
     "execution_count": 87,
     "metadata": {},
     "output_type": "execute_result"
    },
    {
     "data": {
      "text/plain": [
       "array(['2018-10-31', '2018-11-30', '2018-12-28', '2019-01-31',\n",
       "       '2019-02-28', '2019-03-29', '2019-04-30', '2019-05-31',\n",
       "       '2019-06-28', '2019-07-31', '2019-08-30', '2019-09-30',\n",
       "       '2019-10-31', '2019-11-29', '2019-12-31', '2020-01-23',\n",
       "       '2020-02-28', '2020-03-31', '2020-04-30', '2020-05-29',\n",
       "       '2020-06-30', '2020-07-31', '2020-08-31', '2020-09-29'],\n",
       "      dtype='<U10')"
      ]
     },
     "execution_count": 87,
     "metadata": {},
     "output_type": "execute_result"
    }
   ],
   "source": [
    "MF_data = w.wsd(\"H11025.CSI\", \"close\", \"ED-2Y\", datetime.today().strftime(\"%Y-%m-%d\"), \"Period=M\")\n",
    "MF_index = np.array(MF_data.Data).flatten()\n",
    "MF_nv = np.divide(MF_index, MF_index[0])\n",
    "MF_nv\n",
    "MF_times = np.array([x.strftime(\"%Y-%m-%d\") for x in MF_data.Times])\n",
    "MF_times\n"
   ]
  },
  {
   "cell_type": "code",
   "execution_count": 85,
   "metadata": {},
   "outputs": [
    {
     "data": {
      "text/plain": [
       "array([1.        , 1.0118289 , 1.01097481, 1.02690257, 1.03861952,\n",
       "       1.04563792, 1.04422615, 1.04241043, 1.05773541, 1.06314358,\n",
       "       1.07115767, 1.07420342, 1.07560556, 1.08007531, 1.09367211,\n",
       "       1.0976709 , 1.10816757, 1.09796205, 1.12203584, 1.12021894,\n",
       "       1.12263741, 1.13686182, 1.14127693, 1.1303401 ])"
      ]
     },
     "execution_count": 85,
     "metadata": {},
     "output_type": "execute_result"
    }
   ],
   "source": [
    "assets = \"000905.SH,HSI.HI,SPX.GI,AU9999.SGE,H11008.CSI\"\n",
    "assets_data = w.wsd(assets, \"close\", \"ED-2Y\", datetime.today().strftime(\"%Y-%m-%d\"),\"Period=M\")\n",
    "assets_index = np.array(assets_data.Data)\n",
    "\n",
    "def find_nv(x):\n",
    "    return np.divide(x, x[0])\n",
    "\n",
    "def nv_weighted_mean(x):\n",
    "    return sum(np.multiply(x, rp.asset_allocation))\n",
    "\n",
    "assets_nv = np.apply_along_axis(find_nv, axis=1, arr=assets_index )\n",
    "assets_weighted_nv = np.apply_along_axis(nv_weighted_mean, axis = 0 , arr = assets_nv)\n"
   ]
  },
  {
   "cell_type": "code",
   "execution_count": 57,
   "metadata": {},
   "outputs": [],
   "source": [
    "%matplotlib inline"
   ]
  },
  {
   "cell_type": "code",
   "execution_count": 86,
   "metadata": {},
   "outputs": [
    {
     "data": {
      "text/plain": [
       "[<matplotlib.lines.Line2D at 0x1697f40>,\n",
       " <matplotlib.lines.Line2D at 0x1697f88>]"
      ]
     },
     "execution_count": 86,
     "metadata": {},
     "output_type": "execute_result"
    },
    {
     "data": {
      "image/png": "[encoded data removed]",
      "text/plain": [
       "<Figure size 432x288 with 1 Axes>"
      ]
     },
     "metadata": {
      "needs_background": "light"
     },
     "output_type": "display_data"
    }
   ],
   "source": [
    "plt.plot(MF_times, MF_nv, assets_weighted_nv)\n"
   ]
  },
  {
   "cell_type": "code",
   "execution_count": null,
   "metadata": {},
   "outputs": [],
   "source": []
  }
 ],
 "metadata": {
  "kernelspec": {
   "display_name": "Python 3",
   "language": "python",
   "name": "python3"
  },
  "language_info": {
   "codemirror_mode": {
    "name": "ipython",
    "version": 3
   },
   "file_extension": ".py",
   "mimetype": "text/x-python",
   "name": "python",
   "nbconvert_exporter": "python",
   "pygments_lexer": "ipython3",
   "version": "3.8.4"
  }
 },
 "nbformat": 4,
 "nbformat_minor": 4
}
